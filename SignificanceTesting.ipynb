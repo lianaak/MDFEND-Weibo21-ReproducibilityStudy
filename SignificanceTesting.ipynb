{
 "cells": [
  {
   "cell_type": "code",
   "execution_count": 1,
   "metadata": {},
   "outputs": [],
   "source": [
    "import pickle\n",
    "import pandas as pd\n",
    "from scipy import stats\n",
    "import re\n",
    "import glob\n",
    "import os"
   ]
  },
  {
   "cell_type": "markdown",
   "metadata": {},
   "source": [
    "## Result Extraction "
   ]
  },
  {
   "cell_type": "code",
   "execution_count": 2,
   "metadata": {},
   "outputs": [],
   "source": [
    "output_path = './data/outputs/' \n",
    "\n",
    "bert_single_path = './data/outputs/bert_single/'\n",
    "bert_all_path = './data/outputs/bert_all/'\n",
    "textCNN_single_path = './data/outputs/textCNN_single/'\n",
    "textCNN_all_path = './data/outputs/textCNN_all/'\n",
    "mdfend_path = './data/outputs/mdfend/'\n",
    "mdfend_linux_path = './data/outputs/mdfend_all_linux/'"
   ]
  },
  {
   "cell_type": "code",
   "execution_count": 3,
   "metadata": {},
   "outputs": [],
   "source": [
    "def load_files(path, model_name):\n",
    "    pattern = model_name + '_'+'*.txt'\n",
    "    files = glob.glob(path + pattern)\n",
    "    files.sort()\n",
    "    return files"
   ]
  },
  {
   "cell_type": "code",
   "execution_count": 4,
   "metadata": {},
   "outputs": [],
   "source": [
    "def extract_results(files):\n",
    "    lastlines_list = []\n",
    "    model_results = []\n",
    "    \n",
    "    #extracting the last line in the txt file which contains the required 'metric' result\n",
    "    for path in files:\n",
    "        with open(path, 'rt', encoding='utf-16') as file:\n",
    "            last_line = file.readlines()[-1]\n",
    "            lastlines_list.append(last_line)\n",
    "    \n",
    "    #in the last lines, extract the result using regex\n",
    "    for line in lastlines_list:\n",
    "        regex_res = re.search(r\"'metric': (\\d*\\.?\\d*)\", line)\n",
    "        model_results.append(float(regex_res.group(1)))\n",
    "    \n",
    "    return model_results"
   ]
  },
  {
   "cell_type": "markdown",
   "metadata": {},
   "source": [
    "### MDFEND (Windows, Linux)  "
   ]
  },
  {
   "cell_type": "code",
   "execution_count": 5,
   "metadata": {},
   "outputs": [
    {
     "data": {
      "text/plain": [
       "['./data/outputs/mdfend/mdfend_split1.txt',\n",
       " './data/outputs/mdfend/mdfend_split10.txt',\n",
       " './data/outputs/mdfend/mdfend_split2.txt',\n",
       " './data/outputs/mdfend/mdfend_split3.txt',\n",
       " './data/outputs/mdfend/mdfend_split4.txt',\n",
       " './data/outputs/mdfend/mdfend_split5.txt',\n",
       " './data/outputs/mdfend/mdfend_split6.txt',\n",
       " './data/outputs/mdfend/mdfend_split7.txt',\n",
       " './data/outputs/mdfend/mdfend_split8.txt',\n",
       " './data/outputs/mdfend/mdfend_split9.txt']"
      ]
     },
     "execution_count": 5,
     "metadata": {},
     "output_type": "execute_result"
    }
   ],
   "source": [
    "mdfend_files = load_files(mdfend_path, 'mdfend')\n",
    "mdfend_files"
   ]
  },
  {
   "cell_type": "code",
   "execution_count": 6,
   "metadata": {},
   "outputs": [
    {
     "data": {
      "text/plain": [
       "[0.9119858785475026,\n",
       " 0.8981886055318535,\n",
       " 0.9121668397369331,\n",
       " 0.9146110261584848,\n",
       " 0.9118747545185808,\n",
       " 0.9099491482634673,\n",
       " 0.9134571797928244,\n",
       " 0.8992159562144284,\n",
       " 0.905232480567278,\n",
       " 0.9074053137365743]"
      ]
     },
     "execution_count": 6,
     "metadata": {},
     "output_type": "execute_result"
    }
   ],
   "source": [
    "mdfend_results = extract_results(mdfend_files)\n",
    "mdfend_results"
   ]
  },
  {
   "cell_type": "code",
   "execution_count": 7,
   "metadata": {},
   "outputs": [
    {
     "data": {
      "text/plain": [
       "['./data/outputs/mdfend_all_linux/mdfend__all_linux_split1.txt',\n",
       " './data/outputs/mdfend_all_linux/mdfend__all_linux_split10.txt',\n",
       " './data/outputs/mdfend_all_linux/mdfend__all_linux_split2.txt',\n",
       " './data/outputs/mdfend_all_linux/mdfend__all_linux_split3.txt',\n",
       " './data/outputs/mdfend_all_linux/mdfend__all_linux_split4.txt',\n",
       " './data/outputs/mdfend_all_linux/mdfend__all_linux_split5.txt',\n",
       " './data/outputs/mdfend_all_linux/mdfend__all_linux_split6.txt',\n",
       " './data/outputs/mdfend_all_linux/mdfend__all_linux_split7.txt',\n",
       " './data/outputs/mdfend_all_linux/mdfend__all_linux_split8.txt',\n",
       " './data/outputs/mdfend_all_linux/mdfend__all_linux_split9.txt']"
      ]
     },
     "execution_count": 7,
     "metadata": {},
     "output_type": "execute_result"
    }
   ],
   "source": [
    "mdfend_linux_files = load_files(mdfend_linux_path, 'mdfend__all_linux')\n",
    "mdfend_linux_files"
   ]
  },
  {
   "cell_type": "code",
   "execution_count": 8,
   "metadata": {},
   "outputs": [
    {
     "data": {
      "text/plain": [
       "[0.913111614710914,\n",
       " 0.9096853074258747,\n",
       " 0.9176564122533748,\n",
       " 0.9173472827039489,\n",
       " 0.9085928842363477,\n",
       " 0.9050579241853562,\n",
       " 0.9123715790382456,\n",
       " 0.8878496236257587,\n",
       " 0.9122847026345797,\n",
       " 0.9228234697756938]"
      ]
     },
     "execution_count": 8,
     "metadata": {},
     "output_type": "execute_result"
    }
   ],
   "source": [
    "mdfend_linux_results = extract_results(mdfend_linux_files)\n",
    "mdfend_linux_results"
   ]
  },
  {
   "cell_type": "markdown",
   "metadata": {},
   "source": [
    "### All Domain Models (bert_all, textCNN_all)"
   ]
  },
  {
   "cell_type": "code",
   "execution_count": 9,
   "metadata": {},
   "outputs": [
    {
     "data": {
      "text/plain": [
       "['./data/outputs/bert_all/bert_all_split1.txt',\n",
       " './data/outputs/bert_all/bert_all_split10.txt',\n",
       " './data/outputs/bert_all/bert_all_split2.txt',\n",
       " './data/outputs/bert_all/bert_all_split3.txt',\n",
       " './data/outputs/bert_all/bert_all_split4.txt',\n",
       " './data/outputs/bert_all/bert_all_split5.txt',\n",
       " './data/outputs/bert_all/bert_all_split6.txt',\n",
       " './data/outputs/bert_all/bert_all_split7.txt',\n",
       " './data/outputs/bert_all/bert_all_split8.txt',\n",
       " './data/outputs/bert_all/bert_all_split9.txt']"
      ]
     },
     "execution_count": 9,
     "metadata": {},
     "output_type": "execute_result"
    }
   ],
   "source": [
    "bert_all_files = load_files(bert_all_path, 'bert_all')\n",
    "bert_all_files"
   ]
  },
  {
   "cell_type": "code",
   "execution_count": 10,
   "metadata": {},
   "outputs": [
    {
     "data": {
      "text/plain": [
       "[0.8511725365251586,\n",
       " 0.8580633762998926,\n",
       " 0.8621345563266907,\n",
       " 0.872463025629272,\n",
       " 0.8620685936151855,\n",
       " 0.8455070575330759,\n",
       " 0.8751693153785113,\n",
       " 0.8625365820611735,\n",
       " 0.8615209563580597,\n",
       " 0.8596430577762413]"
      ]
     },
     "execution_count": 10,
     "metadata": {},
     "output_type": "execute_result"
    }
   ],
   "source": [
    "bert_all_results = extract_results(bert_all_files)\n",
    "bert_all_results"
   ]
  },
  {
   "cell_type": "code",
   "execution_count": 11,
   "metadata": {},
   "outputs": [],
   "source": [
    "def load_textCNNall_files(path, model_name):\n",
    "    files = glob.glob(path + model_name + '*')\n",
    "    files.sort()\n",
    "    return files"
   ]
  },
  {
   "cell_type": "code",
   "execution_count": 12,
   "metadata": {},
   "outputs": [
    {
     "data": {
      "text/plain": [
       "['./data/outputs/textCNN_all/textCNN_all_split1',\n",
       " './data/outputs/textCNN_all/textCNN_all_split10',\n",
       " './data/outputs/textCNN_all/textCNN_all_split2',\n",
       " './data/outputs/textCNN_all/textCNN_all_split3',\n",
       " './data/outputs/textCNN_all/textCNN_all_split4',\n",
       " './data/outputs/textCNN_all/textCNN_all_split5',\n",
       " './data/outputs/textCNN_all/textCNN_all_split6',\n",
       " './data/outputs/textCNN_all/textCNN_all_split7',\n",
       " './data/outputs/textCNN_all/textCNN_all_split8',\n",
       " './data/outputs/textCNN_all/textCNN_all_split9']"
      ]
     },
     "execution_count": 12,
     "metadata": {},
     "output_type": "execute_result"
    }
   ],
   "source": [
    "textCNN_all_files = load_textCNNall_files(textCNN_all_path, 'textCNN_all')\n",
    "textCNN_all_files"
   ]
  },
  {
   "cell_type": "code",
   "execution_count": 13,
   "metadata": {},
   "outputs": [],
   "source": [
    "for old_name in textCNN_all_files:\n",
    "    new_name = old_name + '.txt'\n",
    "    os.rename(old_name, new_name)"
   ]
  },
  {
   "cell_type": "code",
   "execution_count": 14,
   "metadata": {},
   "outputs": [
    {
     "data": {
      "text/plain": [
       "['./data/outputs/textCNN_all/textCNN_all_split1.txt',\n",
       " './data/outputs/textCNN_all/textCNN_all_split10.txt',\n",
       " './data/outputs/textCNN_all/textCNN_all_split2.txt',\n",
       " './data/outputs/textCNN_all/textCNN_all_split3.txt',\n",
       " './data/outputs/textCNN_all/textCNN_all_split4.txt',\n",
       " './data/outputs/textCNN_all/textCNN_all_split5.txt',\n",
       " './data/outputs/textCNN_all/textCNN_all_split6.txt',\n",
       " './data/outputs/textCNN_all/textCNN_all_split7.txt',\n",
       " './data/outputs/textCNN_all/textCNN_all_split8.txt',\n",
       " './data/outputs/textCNN_all/textCNN_all_split9.txt']"
      ]
     },
     "execution_count": 14,
     "metadata": {},
     "output_type": "execute_result"
    }
   ],
   "source": [
    "textCNN_all_files = load_textCNNall_files(textCNN_all_path, 'textCNN_all')\n",
    "textCNN_all_files"
   ]
  },
  {
   "cell_type": "code",
   "execution_count": 15,
   "metadata": {
    "scrolled": true
   },
   "outputs": [
    {
     "data": {
      "text/plain": [
       "[0.8865532288800062,\n",
       " 0.8664752041620086,\n",
       " 0.8786584623706809,\n",
       " 0.8904521263200309,\n",
       " 0.8822460971283461,\n",
       " 0.8936260504201681,\n",
       " 0.890503337041157,\n",
       " 0.8740123909852344,\n",
       " 0.9014069136880278,\n",
       " 0.8998356763558197]"
      ]
     },
     "execution_count": 15,
     "metadata": {},
     "output_type": "execute_result"
    }
   ],
   "source": [
    "textCNN_all_lastlines = []\n",
    "\n",
    "for path in textCNN_all_files:\n",
    "    with open(path, 'rt') as file:\n",
    "        lines = []\n",
    "        for line in file:\n",
    "            if len(line) > 1 or line != '\\n':\n",
    "                lines.append(line)\n",
    "        last_line = lines[-1]\n",
    "        textCNN_all_lastlines.append(last_line)\n",
    "        \n",
    "textCNN_all_results = []\n",
    "\n",
    "for line in textCNN_all_lastlines:\n",
    "    regex_res = re.search(r\"'metric': (\\d*\\.?\\d*)\", line)\n",
    "    textCNN_all_results.append(float(regex_res.group(1)))\n",
    "\n",
    "textCNN_all_results"
   ]
  },
  {
   "cell_type": "markdown",
   "metadata": {},
   "source": [
    "### Single Domain Models "
   ]
  },
  {
   "cell_type": "code",
   "execution_count": 16,
   "metadata": {},
   "outputs": [],
   "source": [
    "def load_single_files(path, model_name, split):\n",
    "    pattern = model_name + '_'+ split + '_' + '*.txt'\n",
    "    files = glob.glob(path + pattern)\n",
    "    files.sort()\n",
    "    return files"
   ]
  },
  {
   "cell_type": "code",
   "execution_count": 17,
   "metadata": {},
   "outputs": [],
   "source": [
    "def Average(lst):\n",
    "    return sum(lst) / len(lst)"
   ]
  },
  {
   "cell_type": "code",
   "execution_count": 18,
   "metadata": {},
   "outputs": [],
   "source": [
    "split_list = ['split1', 'split2', 'split3','split4', 'split5','split6','split7','split8','split9','split10']"
   ]
  },
  {
   "cell_type": "code",
   "execution_count": 19,
   "metadata": {},
   "outputs": [],
   "source": [
    "def get_single_results(model_results_path, model_name):\n",
    "    \n",
    "    model_results = []\n",
    "    \n",
    "    for split in split_list:\n",
    "        split_files = load_single_files(model_results_path, model_name, split)\n",
    "        split_results = extract_results(split_files)\n",
    "        split_average = Average(split_results)\n",
    "        model_results.append(split_average)\n",
    "    \n",
    "    return model_results"
   ]
  },
  {
   "cell_type": "code",
   "execution_count": 20,
   "metadata": {},
   "outputs": [],
   "source": [
    "# bert_single_results = []\n",
    "\n",
    "# bert_sing_sp1 = load_single_files(bert_single_path, 'bert_single', 'split1')\n",
    "# bert_sing_sp1\n",
    "\n",
    "# bert_sing_sp1_res = extract_results(bert_sing_sp1)\n",
    "# bert_sing_sp1_res\n",
    "\n",
    "# bert_single_results.append(Average(bert_sing_sp1_res))"
   ]
  },
  {
   "cell_type": "code",
   "execution_count": 21,
   "metadata": {},
   "outputs": [
    {
     "data": {
      "text/plain": [
       "[0.8139784571135675,\n",
       " 0.8305183182096836,\n",
       " 0.8357128615401916,\n",
       " 0.8396200498943195,\n",
       " 0.8486487485452342,\n",
       " 0.8108514885644428,\n",
       " 0.8324167521570492,\n",
       " 0.8302196045553049,\n",
       " 0.8521883109448545,\n",
       " 0.8321764340539288]"
      ]
     },
     "execution_count": 21,
     "metadata": {},
     "output_type": "execute_result"
    }
   ],
   "source": [
    "bert_single_results = get_single_results(bert_single_path, 'bert_single')\n",
    "bert_single_results"
   ]
  },
  {
   "cell_type": "code",
   "execution_count": 22,
   "metadata": {},
   "outputs": [
    {
     "data": {
      "text/plain": [
       "[0.8383755973025862,\n",
       " 0.8601500364291469,\n",
       " 0.8610446193244641,\n",
       " 0.8488344288810125,\n",
       " 0.8682147935918467,\n",
       " 0.8491993629993432,\n",
       " 0.8572114552778779,\n",
       " 0.8596245166895511,\n",
       " 0.8694261935998127,\n",
       " 0.8771106138438012]"
      ]
     },
     "execution_count": 22,
     "metadata": {},
     "output_type": "execute_result"
    }
   ],
   "source": [
    "textCNN_single_results = get_single_results(textCNN_single_path, 'textcnn_single')\n",
    "textCNN_single_results\n",
    "\n",
    "#problem with split 6 and 10: output weird"
   ]
  },
  {
   "cell_type": "markdown",
   "metadata": {},
   "source": [
    "### All Model Results "
   ]
  },
  {
   "cell_type": "code",
   "execution_count": 23,
   "metadata": {},
   "outputs": [],
   "source": [
    "pd.set_option(\"display.precision\", 16)\n",
    "\n",
    "results = pd.DataFrame()\n",
    "results['bert_single'] = bert_single_results\n",
    "results['textCNN_single'] = textCNN_single_results\n",
    "results['bert_all'] = bert_all_results\n",
    "results['textCNN_all'] = textCNN_all_results\n",
    "results['mdfend_windows'] = mdfend_results"
   ]
  },
  {
   "cell_type": "code",
   "execution_count": 24,
   "metadata": {
    "scrolled": true
   },
   "outputs": [
    {
     "data": {
      "text/html": [
       "<div>\n",
       "<style scoped>\n",
       "    .dataframe tbody tr th:only-of-type {\n",
       "        vertical-align: middle;\n",
       "    }\n",
       "\n",
       "    .dataframe tbody tr th {\n",
       "        vertical-align: top;\n",
       "    }\n",
       "\n",
       "    .dataframe thead th {\n",
       "        text-align: right;\n",
       "    }\n",
       "</style>\n",
       "<table border=\"1\" class=\"dataframe\">\n",
       "  <thead>\n",
       "    <tr style=\"text-align: right;\">\n",
       "      <th></th>\n",
       "      <th>bert_single</th>\n",
       "      <th>textCNN_single</th>\n",
       "      <th>bert_all</th>\n",
       "      <th>textCNN_all</th>\n",
       "      <th>mdfend_windows</th>\n",
       "    </tr>\n",
       "  </thead>\n",
       "  <tbody>\n",
       "    <tr>\n",
       "      <th>0</th>\n",
       "      <td>0.8139784571135675</td>\n",
       "      <td>0.8383755973025862</td>\n",
       "      <td>0.8511725365251586</td>\n",
       "      <td>0.8865532288800062</td>\n",
       "      <td>0.9119858785475026</td>\n",
       "    </tr>\n",
       "    <tr>\n",
       "      <th>1</th>\n",
       "      <td>0.8305183182096836</td>\n",
       "      <td>0.8601500364291469</td>\n",
       "      <td>0.8580633762998926</td>\n",
       "      <td>0.8664752041620086</td>\n",
       "      <td>0.8981886055318535</td>\n",
       "    </tr>\n",
       "    <tr>\n",
       "      <th>2</th>\n",
       "      <td>0.8357128615401916</td>\n",
       "      <td>0.8610446193244641</td>\n",
       "      <td>0.8621345563266907</td>\n",
       "      <td>0.8786584623706809</td>\n",
       "      <td>0.9121668397369331</td>\n",
       "    </tr>\n",
       "    <tr>\n",
       "      <th>3</th>\n",
       "      <td>0.8396200498943195</td>\n",
       "      <td>0.8488344288810125</td>\n",
       "      <td>0.8724630256292720</td>\n",
       "      <td>0.8904521263200309</td>\n",
       "      <td>0.9146110261584848</td>\n",
       "    </tr>\n",
       "    <tr>\n",
       "      <th>4</th>\n",
       "      <td>0.8486487485452342</td>\n",
       "      <td>0.8682147935918467</td>\n",
       "      <td>0.8620685936151855</td>\n",
       "      <td>0.8822460971283461</td>\n",
       "      <td>0.9118747545185808</td>\n",
       "    </tr>\n",
       "    <tr>\n",
       "      <th>5</th>\n",
       "      <td>0.8108514885644428</td>\n",
       "      <td>0.8491993629993432</td>\n",
       "      <td>0.8455070575330759</td>\n",
       "      <td>0.8936260504201681</td>\n",
       "      <td>0.9099491482634673</td>\n",
       "    </tr>\n",
       "    <tr>\n",
       "      <th>6</th>\n",
       "      <td>0.8324167521570492</td>\n",
       "      <td>0.8572114552778779</td>\n",
       "      <td>0.8751693153785113</td>\n",
       "      <td>0.8905033370411570</td>\n",
       "      <td>0.9134571797928244</td>\n",
       "    </tr>\n",
       "    <tr>\n",
       "      <th>7</th>\n",
       "      <td>0.8302196045553049</td>\n",
       "      <td>0.8596245166895511</td>\n",
       "      <td>0.8625365820611735</td>\n",
       "      <td>0.8740123909852344</td>\n",
       "      <td>0.8992159562144284</td>\n",
       "    </tr>\n",
       "    <tr>\n",
       "      <th>8</th>\n",
       "      <td>0.8521883109448545</td>\n",
       "      <td>0.8694261935998127</td>\n",
       "      <td>0.8615209563580597</td>\n",
       "      <td>0.9014069136880278</td>\n",
       "      <td>0.9052324805672780</td>\n",
       "    </tr>\n",
       "    <tr>\n",
       "      <th>9</th>\n",
       "      <td>0.8321764340539288</td>\n",
       "      <td>0.8771106138438012</td>\n",
       "      <td>0.8596430577762413</td>\n",
       "      <td>0.8998356763558197</td>\n",
       "      <td>0.9074053137365743</td>\n",
       "    </tr>\n",
       "  </tbody>\n",
       "</table>\n",
       "</div>"
      ],
      "text/plain": [
       "          bert_single      textCNN_single            bert_all  \\\n",
       "0  0.8139784571135675  0.8383755973025862  0.8511725365251586   \n",
       "1  0.8305183182096836  0.8601500364291469  0.8580633762998926   \n",
       "2  0.8357128615401916  0.8610446193244641  0.8621345563266907   \n",
       "3  0.8396200498943195  0.8488344288810125  0.8724630256292720   \n",
       "4  0.8486487485452342  0.8682147935918467  0.8620685936151855   \n",
       "5  0.8108514885644428  0.8491993629993432  0.8455070575330759   \n",
       "6  0.8324167521570492  0.8572114552778779  0.8751693153785113   \n",
       "7  0.8302196045553049  0.8596245166895511  0.8625365820611735   \n",
       "8  0.8521883109448545  0.8694261935998127  0.8615209563580597   \n",
       "9  0.8321764340539288  0.8771106138438012  0.8596430577762413   \n",
       "\n",
       "          textCNN_all      mdfend_windows  \n",
       "0  0.8865532288800062  0.9119858785475026  \n",
       "1  0.8664752041620086  0.8981886055318535  \n",
       "2  0.8786584623706809  0.9121668397369331  \n",
       "3  0.8904521263200309  0.9146110261584848  \n",
       "4  0.8822460971283461  0.9118747545185808  \n",
       "5  0.8936260504201681  0.9099491482634673  \n",
       "6  0.8905033370411570  0.9134571797928244  \n",
       "7  0.8740123909852344  0.8992159562144284  \n",
       "8  0.9014069136880278  0.9052324805672780  \n",
       "9  0.8998356763558197  0.9074053137365743  "
      ]
     },
     "execution_count": 24,
     "metadata": {},
     "output_type": "execute_result"
    }
   ],
   "source": [
    "results"
   ]
  },
  {
   "cell_type": "code",
   "execution_count": 25,
   "metadata": {},
   "outputs": [],
   "source": [
    "#results.to_latex()"
   ]
  },
  {
   "cell_type": "code",
   "execution_count": 26,
   "metadata": {},
   "outputs": [],
   "source": [
    "results_stats=pd.DataFrame()\n",
    "results_stats[\"mean\"]=results.mean()\n",
    "results_stats[\"Std.Dev\"]=results.std()\n",
    "results_stats[\"Var\"]=results.var()"
   ]
  },
  {
   "cell_type": "code",
   "execution_count": 27,
   "metadata": {
    "scrolled": true
   },
   "outputs": [
    {
     "data": {
      "text/html": [
       "<div>\n",
       "<style scoped>\n",
       "    .dataframe tbody tr th:only-of-type {\n",
       "        vertical-align: middle;\n",
       "    }\n",
       "\n",
       "    .dataframe tbody tr th {\n",
       "        vertical-align: top;\n",
       "    }\n",
       "\n",
       "    .dataframe thead th {\n",
       "        text-align: right;\n",
       "    }\n",
       "</style>\n",
       "<table border=\"1\" class=\"dataframe\">\n",
       "  <thead>\n",
       "    <tr style=\"text-align: right;\">\n",
       "      <th></th>\n",
       "      <th>bert_single</th>\n",
       "      <th>textCNN_single</th>\n",
       "      <th>bert_all</th>\n",
       "      <th>textCNN_all</th>\n",
       "      <th>mdfend_windows</th>\n",
       "    </tr>\n",
       "  </thead>\n",
       "  <tbody>\n",
       "    <tr>\n",
       "      <th>mean</th>\n",
       "      <td>0.8326331025578577</td>\n",
       "      <td>0.8589191617939441</td>\n",
       "      <td>0.8610279057503261</td>\n",
       "      <td>0.8863769487351479</td>\n",
       "      <td>0.9084087183067926</td>\n",
       "    </tr>\n",
       "    <tr>\n",
       "      <th>Std.Dev</th>\n",
       "      <td>0.0130392424106784</td>\n",
       "      <td>0.0113303731098349</td>\n",
       "      <td>0.0087197070126750</td>\n",
       "      <td>0.0111497513203114</td>\n",
       "      <td>0.0058244156267302</td>\n",
       "    </tr>\n",
       "    <tr>\n",
       "      <th>Var</th>\n",
       "      <td>0.0001700218426444</td>\n",
       "      <td>0.0001283773548081</td>\n",
       "      <td>0.0000760332903869</td>\n",
       "      <td>0.0001243169545048</td>\n",
       "      <td>0.0000339238173929</td>\n",
       "    </tr>\n",
       "  </tbody>\n",
       "</table>\n",
       "</div>"
      ],
      "text/plain": [
       "                bert_single      textCNN_single            bert_all  \\\n",
       "mean     0.8326331025578577  0.8589191617939441  0.8610279057503261   \n",
       "Std.Dev  0.0130392424106784  0.0113303731098349  0.0087197070126750   \n",
       "Var      0.0001700218426444  0.0001283773548081  0.0000760332903869   \n",
       "\n",
       "                textCNN_all      mdfend_windows  \n",
       "mean     0.8863769487351479  0.9084087183067926  \n",
       "Std.Dev  0.0111497513203114  0.0058244156267302  \n",
       "Var      0.0001243169545048  0.0000339238173929  "
      ]
     },
     "execution_count": 27,
     "metadata": {},
     "output_type": "execute_result"
    }
   ],
   "source": [
    "results_stats.T"
   ]
  },
  {
   "cell_type": "code",
   "execution_count": 28,
   "metadata": {},
   "outputs": [],
   "source": [
    "#results_stats.to_latex()"
   ]
  },
  {
   "cell_type": "markdown",
   "metadata": {},
   "source": [
    "### MDFEDN Results: Linux, Windows "
   ]
  },
  {
   "cell_type": "code",
   "execution_count": 29,
   "metadata": {},
   "outputs": [],
   "source": [
    "pd.set_option(\"display.precision\", 16)\n",
    "\n",
    "results_mdfend = pd.DataFrame()\n",
    "results_mdfend['mdfend_linux'] = mdfend_linux_results\n",
    "results_mdfend['mdfend_windows'] = mdfend_results"
   ]
  },
  {
   "cell_type": "code",
   "execution_count": 30,
   "metadata": {},
   "outputs": [
    {
     "data": {
      "text/html": [
       "<div>\n",
       "<style scoped>\n",
       "    .dataframe tbody tr th:only-of-type {\n",
       "        vertical-align: middle;\n",
       "    }\n",
       "\n",
       "    .dataframe tbody tr th {\n",
       "        vertical-align: top;\n",
       "    }\n",
       "\n",
       "    .dataframe thead th {\n",
       "        text-align: right;\n",
       "    }\n",
       "</style>\n",
       "<table border=\"1\" class=\"dataframe\">\n",
       "  <thead>\n",
       "    <tr style=\"text-align: right;\">\n",
       "      <th></th>\n",
       "      <th>mdfend_linux</th>\n",
       "      <th>mdfend_windows</th>\n",
       "    </tr>\n",
       "  </thead>\n",
       "  <tbody>\n",
       "    <tr>\n",
       "      <th>0</th>\n",
       "      <td>0.9131116147109140</td>\n",
       "      <td>0.9119858785475026</td>\n",
       "    </tr>\n",
       "    <tr>\n",
       "      <th>1</th>\n",
       "      <td>0.9096853074258747</td>\n",
       "      <td>0.8981886055318535</td>\n",
       "    </tr>\n",
       "    <tr>\n",
       "      <th>2</th>\n",
       "      <td>0.9176564122533748</td>\n",
       "      <td>0.9121668397369331</td>\n",
       "    </tr>\n",
       "    <tr>\n",
       "      <th>3</th>\n",
       "      <td>0.9173472827039489</td>\n",
       "      <td>0.9146110261584848</td>\n",
       "    </tr>\n",
       "    <tr>\n",
       "      <th>4</th>\n",
       "      <td>0.9085928842363477</td>\n",
       "      <td>0.9118747545185808</td>\n",
       "    </tr>\n",
       "    <tr>\n",
       "      <th>5</th>\n",
       "      <td>0.9050579241853562</td>\n",
       "      <td>0.9099491482634673</td>\n",
       "    </tr>\n",
       "    <tr>\n",
       "      <th>6</th>\n",
       "      <td>0.9123715790382456</td>\n",
       "      <td>0.9134571797928244</td>\n",
       "    </tr>\n",
       "    <tr>\n",
       "      <th>7</th>\n",
       "      <td>0.8878496236257587</td>\n",
       "      <td>0.8992159562144284</td>\n",
       "    </tr>\n",
       "    <tr>\n",
       "      <th>8</th>\n",
       "      <td>0.9122847026345797</td>\n",
       "      <td>0.9052324805672780</td>\n",
       "    </tr>\n",
       "    <tr>\n",
       "      <th>9</th>\n",
       "      <td>0.9228234697756938</td>\n",
       "      <td>0.9074053137365743</td>\n",
       "    </tr>\n",
       "  </tbody>\n",
       "</table>\n",
       "</div>"
      ],
      "text/plain": [
       "         mdfend_linux      mdfend_windows\n",
       "0  0.9131116147109140  0.9119858785475026\n",
       "1  0.9096853074258747  0.8981886055318535\n",
       "2  0.9176564122533748  0.9121668397369331\n",
       "3  0.9173472827039489  0.9146110261584848\n",
       "4  0.9085928842363477  0.9118747545185808\n",
       "5  0.9050579241853562  0.9099491482634673\n",
       "6  0.9123715790382456  0.9134571797928244\n",
       "7  0.8878496236257587  0.8992159562144284\n",
       "8  0.9122847026345797  0.9052324805672780\n",
       "9  0.9228234697756938  0.9074053137365743"
      ]
     },
     "execution_count": 30,
     "metadata": {},
     "output_type": "execute_result"
    }
   ],
   "source": [
    "results_mdfend"
   ]
  },
  {
   "cell_type": "code",
   "execution_count": 45,
   "metadata": {},
   "outputs": [],
   "source": [
    "#results_mdfend.to_latex()"
   ]
  },
  {
   "cell_type": "markdown",
   "metadata": {},
   "source": [
    "## Significance Testing "
   ]
  },
  {
   "cell_type": "markdown",
   "metadata": {},
   "source": [
    "### Paired Sample t-Test: MDFEND on different operating systems"
   ]
  },
  {
   "cell_type": "markdown",
   "metadata": {},
   "source": [
    "We perform a test to see if there is a significant performance difference between the MDFEND model output when ran on Linux and Windows. In particular, we want to test whether there is a significantly different model output with respect to the F1-score measured on all domains.\n",
    "\n",
    "We hence test the Null hypothesis that the expected average performance of the MDFEND model on Linux and on Windows are equal against the alternative that they are different (i.e. we perform a two-tailed test and the H0 will be rejected when the t-value is sufficiently small or large)\n",
    "\n",
    "Have 9 dof (degrees of freedom): we reject the Null if the absolute value of the statistic |t| > t(95, df = 9) = 2.262 at the 5% level, or |t| > t(99, df=9) = 3.250 at the 1% level "
   ]
  },
  {
   "cell_type": "code",
   "execution_count": 32,
   "metadata": {},
   "outputs": [],
   "source": [
    "Index = ['t-statistic', 'p-value', 'df']\n",
    "mdfend_testing_results = pd.DataFrame(index = Index)"
   ]
  },
  {
   "cell_type": "code",
   "execution_count": 33,
   "metadata": {},
   "outputs": [],
   "source": [
    "mdfend_test = stats.ttest_rel(results_mdfend['mdfend_linux'], results_mdfend['mdfend_windows'])\n",
    "mdfend_testing_results['mdfend'] = [mdfend_test.statistic, mdfend_test.pvalue, mdfend_test.df]"
   ]
  },
  {
   "cell_type": "code",
   "execution_count": 34,
   "metadata": {
    "scrolled": true
   },
   "outputs": [
    {
     "data": {
      "text/html": [
       "<div>\n",
       "<style scoped>\n",
       "    .dataframe tbody tr th:only-of-type {\n",
       "        vertical-align: middle;\n",
       "    }\n",
       "\n",
       "    .dataframe tbody tr th {\n",
       "        vertical-align: top;\n",
       "    }\n",
       "\n",
       "    .dataframe thead th {\n",
       "        text-align: right;\n",
       "    }\n",
       "</style>\n",
       "<table border=\"1\" class=\"dataframe\">\n",
       "  <thead>\n",
       "    <tr style=\"text-align: right;\">\n",
       "      <th></th>\n",
       "      <th>mdfend</th>\n",
       "    </tr>\n",
       "  </thead>\n",
       "  <tbody>\n",
       "    <tr>\n",
       "      <th>t-statistic</th>\n",
       "      <td>0.9001088989262811</td>\n",
       "    </tr>\n",
       "    <tr>\n",
       "      <th>p-value</th>\n",
       "      <td>0.3915103919149541</td>\n",
       "    </tr>\n",
       "    <tr>\n",
       "      <th>df</th>\n",
       "      <td>9.0000000000000000</td>\n",
       "    </tr>\n",
       "  </tbody>\n",
       "</table>\n",
       "</div>"
      ],
      "text/plain": [
       "                         mdfend\n",
       "t-statistic  0.9001088989262811\n",
       "p-value      0.3915103919149541\n",
       "df           9.0000000000000000"
      ]
     },
     "execution_count": 34,
     "metadata": {},
     "output_type": "execute_result"
    }
   ],
   "source": [
    "mdfend_testing_results"
   ]
  },
  {
   "cell_type": "markdown",
   "metadata": {},
   "source": [
    "Given that |t| = |0.9001| < t(95, df=9) = 2.262, we cannot reject the Null and conclude that the difference in genre classification f1-score between MDFEND ran on Linux or Microsoft is not significant (Note: the same holds true for the stricter 99% error level)."
   ]
  },
  {
   "cell_type": "code",
   "execution_count": 43,
   "metadata": {},
   "outputs": [],
   "source": [
    "#mdfend_testing_results.to_latex()"
   ]
  },
  {
   "cell_type": "markdown",
   "metadata": {},
   "source": [
    "###  Paired Sample t-Test: between models"
   ]
  },
  {
   "cell_type": "markdown",
   "metadata": {},
   "source": [
    "We perform a test to see if there is a significant performance difference between the MDFEND (ran on Microsoft) and the other models. In particular, we want to test whether the MDFEND model performs better with respect to the F1-score measured on all domains.\n",
    "\n",
    "We hence test the Null hypothesis that the expected average performance of the MDFEND and a respective other model are equal against the alternative that the expected average performance of the MDFEND model is greater than that of the other model (i.e. we perform a one-tailed test and the H0 will be rejected when the t-value is sufficiently large)\n",
    "\n",
    "Have 9 dof (degrees of freedom): we reject the Null if the t-statistic is larger than t(99, df = 9) = 2.821 (value at the 1% level)"
   ]
  },
  {
   "cell_type": "code",
   "execution_count": 35,
   "metadata": {},
   "outputs": [],
   "source": [
    "testing_results = pd.DataFrame(index = Index)"
   ]
  },
  {
   "cell_type": "markdown",
   "metadata": {},
   "source": [
    "#### MDFEND vs. bert_single"
   ]
  },
  {
   "cell_type": "code",
   "execution_count": 36,
   "metadata": {},
   "outputs": [],
   "source": [
    "bert_single_test = stats.ttest_rel(results['mdfend_windows'], results['bert_single'], alternative = 'greater')\n",
    "testing_results['bert_single'] = [bert_single_test.statistic, bert_single_test.pvalue, bert_single_test.df]"
   ]
  },
  {
   "cell_type": "markdown",
   "metadata": {},
   "source": [
    "#### MDFEND vs. textCNN_single\n"
   ]
  },
  {
   "cell_type": "code",
   "execution_count": 37,
   "metadata": {},
   "outputs": [],
   "source": [
    "textCNN_single_test = stats.ttest_rel(results['mdfend_windows'], results['textCNN_single'], alternative = 'greater')\n",
    "testing_results['textCNN_single'] = [textCNN_single_test.statistic, textCNN_single_test.pvalue, textCNN_single_test.df]"
   ]
  },
  {
   "cell_type": "markdown",
   "metadata": {},
   "source": [
    "#### MDFEND vs. bert_all\n"
   ]
  },
  {
   "cell_type": "code",
   "execution_count": 38,
   "metadata": {},
   "outputs": [],
   "source": [
    "bert_all_test = stats.ttest_rel(results['mdfend_windows'], results['bert_all'], alternative = 'greater')\n",
    "testing_results['bert_all'] = [bert_all_test.statistic, bert_all_test.pvalue, bert_all_test.df]"
   ]
  },
  {
   "cell_type": "markdown",
   "metadata": {},
   "source": [
    "#### MDFEND vs. textCNN_all\n"
   ]
  },
  {
   "cell_type": "code",
   "execution_count": 39,
   "metadata": {},
   "outputs": [],
   "source": [
    "textCNN_all_test = stats.ttest_rel(results['mdfend_windows'], results['textCNN_all'], alternative = 'greater')\n",
    "testing_results['textCNN_all'] = [textCNN_all_test.statistic, textCNN_all_test.pvalue, textCNN_all_test.df]"
   ]
  },
  {
   "cell_type": "code",
   "execution_count": 40,
   "metadata": {
    "scrolled": true
   },
   "outputs": [
    {
     "data": {
      "text/html": [
       "<div>\n",
       "<style scoped>\n",
       "    .dataframe tbody tr th:only-of-type {\n",
       "        vertical-align: middle;\n",
       "    }\n",
       "\n",
       "    .dataframe tbody tr th {\n",
       "        vertical-align: top;\n",
       "    }\n",
       "\n",
       "    .dataframe thead th {\n",
       "        text-align: right;\n",
       "    }\n",
       "</style>\n",
       "<table border=\"1\" class=\"dataframe\">\n",
       "  <thead>\n",
       "    <tr style=\"text-align: right;\">\n",
       "      <th></th>\n",
       "      <th>bert_single</th>\n",
       "      <th>textCNN_single</th>\n",
       "      <th>bert_all</th>\n",
       "      <th>textCNN_all</th>\n",
       "    </tr>\n",
       "  </thead>\n",
       "  <tbody>\n",
       "    <tr>\n",
       "      <th>t-statistic</th>\n",
       "      <td>16.6992813260943933</td>\n",
       "      <td>10.9424679044750555</td>\n",
       "      <td>16.1434825167536751</td>\n",
       "      <td>7.0323374332868793</td>\n",
       "    </tr>\n",
       "    <tr>\n",
       "      <th>p-value</th>\n",
       "      <td>0.0000000221368041</td>\n",
       "      <td>0.0000008413499269</td>\n",
       "      <td>0.0000000297530668</td>\n",
       "      <td>0.0000305165343274</td>\n",
       "    </tr>\n",
       "    <tr>\n",
       "      <th>df</th>\n",
       "      <td>9.0000000000000000</td>\n",
       "      <td>9.0000000000000000</td>\n",
       "      <td>9.0000000000000000</td>\n",
       "      <td>9.0000000000000000</td>\n",
       "    </tr>\n",
       "  </tbody>\n",
       "</table>\n",
       "</div>"
      ],
      "text/plain": [
       "                     bert_single       textCNN_single             bert_all  \\\n",
       "t-statistic  16.6992813260943933  10.9424679044750555  16.1434825167536751   \n",
       "p-value       0.0000000221368041   0.0000008413499269   0.0000000297530668   \n",
       "df            9.0000000000000000   9.0000000000000000   9.0000000000000000   \n",
       "\n",
       "                    textCNN_all  \n",
       "t-statistic  7.0323374332868793  \n",
       "p-value      0.0000305165343274  \n",
       "df           9.0000000000000000  "
      ]
     },
     "execution_count": 40,
     "metadata": {},
     "output_type": "execute_result"
    }
   ],
   "source": [
    "testing_results"
   ]
  },
  {
   "cell_type": "markdown",
   "metadata": {},
   "source": [
    "In all cases be reject the Null and conclude that the MDFEND model performs significantly better with respect to classification f1-score compared to all other tested models. "
   ]
  },
  {
   "cell_type": "code",
   "execution_count": 41,
   "metadata": {},
   "outputs": [],
   "source": [
    "#testing_results.to_latex()"
   ]
  }
 ],
 "metadata": {
  "kernelspec": {
   "display_name": "Python 3 (ipykernel)",
   "language": "python",
   "name": "python3"
  },
  "language_info": {
   "codemirror_mode": {
    "name": "ipython",
    "version": 3
   },
   "file_extension": ".py",
   "mimetype": "text/x-python",
   "name": "python",
   "nbconvert_exporter": "python",
   "pygments_lexer": "ipython3",
   "version": "3.9.6"
  }
 },
 "nbformat": 4,
 "nbformat_minor": 1
}
