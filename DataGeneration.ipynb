{
 "cells": [
  {
   "cell_type": "code",
   "execution_count": 1,
   "metadata": {},
   "outputs": [],
   "source": [
    "import pickle\n",
    "import pandas as pd\n",
    "import matplotlib as plt\n",
    "import seaborn as sns\n",
    "import numpy as np"
   ]
  },
  {
   "cell_type": "markdown",
   "metadata": {},
   "source": [
    "## Bootstrap Sampling "
   ]
  },
  {
   "cell_type": "code",
   "execution_count": 2,
   "metadata": {},
   "outputs": [],
   "source": [
    "root_path = './data/'\n",
    "\n",
    "train_path = root_path + 'train.pkl'\n",
    "val_path = root_path + 'val.pkl'\n",
    "test_path = root_path + 'test.pkl'"
   ]
  },
  {
   "cell_type": "code",
   "execution_count": 3,
   "metadata": {},
   "outputs": [
    {
     "name": "stdout",
     "output_type": "stream",
     "text": [
      "./data/train.pkl\n"
     ]
    }
   ],
   "source": [
    "print(train_path)"
   ]
  },
  {
   "cell_type": "code",
   "execution_count": 4,
   "metadata": {},
   "outputs": [],
   "source": [
    "def df_filter(df_data):\n",
    "    df_data = df_data[df_data['category'] != '无法确定']\n",
    "    return df_data\n",
    "\n",
    "def read_pkl(path):\n",
    "    with open(path, \"rb\") as f:\n",
    "        t = pickle.load(f)\n",
    "    return t\n",
    "\n",
    "category_dict = {\n",
    "            \"科技\": 0,  #Science\n",
    "            \"军事\": 1,  #Military\n",
    "            \"教育考试\": 2,  #Education\n",
    "            \"灾难事故\": 3,  #Accidents\n",
    "            \"政治\": 4,  #Politics\n",
    "            \"医药健康\": 5,  #Health\n",
    "            \"财经商业\": 6,  #Finance\n",
    "            \"文体娱乐\": 7,  #Entertainment\n",
    "            \"社会生活\": 8 #Society\n",
    "        }"
   ]
  },
  {
   "cell_type": "code",
   "execution_count": 5,
   "metadata": {},
   "outputs": [],
   "source": [
    "train_data = df_filter(read_pkl(train_path))\n",
    "val_data = df_filter(read_pkl(val_path))\n",
    "test_data = df_filter(read_pkl(test_path))"
   ]
  },
  {
   "cell_type": "code",
   "execution_count": 6,
   "metadata": {},
   "outputs": [
    {
     "data": {
      "text/html": [
       "<div>\n",
       "<style scoped>\n",
       "    .dataframe tbody tr th:only-of-type {\n",
       "        vertical-align: middle;\n",
       "    }\n",
       "\n",
       "    .dataframe tbody tr th {\n",
       "        vertical-align: top;\n",
       "    }\n",
       "\n",
       "    .dataframe thead th {\n",
       "        text-align: right;\n",
       "    }\n",
       "</style>\n",
       "<table border=\"1\" class=\"dataframe\">\n",
       "  <thead>\n",
       "    <tr style=\"text-align: right;\">\n",
       "      <th></th>\n",
       "      <th>content</th>\n",
       "      <th>label</th>\n",
       "      <th>category</th>\n",
       "    </tr>\n",
       "  </thead>\n",
       "  <tbody>\n",
       "    <tr>\n",
       "      <th>0</th>\n",
       "      <td>【三星折叠屏原型机曝光：双屏设计/非柔性屏】网友@黎启lee晒出三星的ProjcetV可折叠...</td>\n",
       "      <td>0</td>\n",
       "      <td>科技</td>\n",
       "    </tr>\n",
       "    <tr>\n",
       "      <th>1</th>\n",
       "      <td>【能电鱼，更能电力找鱼：别以为电鳗只有把鱼电晕一招！】电鳗2米长的身体里有许多专门发电的细胞...</td>\n",
       "      <td>0</td>\n",
       "      <td>科技</td>\n",
       "    </tr>\n",
       "    <tr>\n",
       "      <th>2</th>\n",
       "      <td>新版微博个人主页过两天就上线了！包括访客到访和被转发评论次数等新功能。参考图如下，来自：@A...</td>\n",
       "      <td>1</td>\n",
       "      <td>科技</td>\n",
       "    </tr>\n",
       "    <tr>\n",
       "      <th>3</th>\n",
       "      <td>在iPad2发售几小时后，国外玩家就已经对它进行了拆解。想了解如此轻薄的机身如何容纳下这么多...</td>\n",
       "      <td>0</td>\n",
       "      <td>科技</td>\n",
       "    </tr>\n",
       "    <tr>\n",
       "      <th>4</th>\n",
       "      <td>#乐享时光#现在科学家都这么闲了吗?谢谢你告诉我这么重要的结论啊！（转）</td>\n",
       "      <td>0</td>\n",
       "      <td>科技</td>\n",
       "    </tr>\n",
       "  </tbody>\n",
       "</table>\n",
       "</div>"
      ],
      "text/plain": [
       "                                             content label category\n",
       "0  【三星折叠屏原型机曝光：双屏设计/非柔性屏】网友@黎启lee晒出三星的ProjcetV可折叠...     0       科技\n",
       "1  【能电鱼，更能电力找鱼：别以为电鳗只有把鱼电晕一招！】电鳗2米长的身体里有许多专门发电的细胞...     0       科技\n",
       "2  新版微博个人主页过两天就上线了！包括访客到访和被转发评论次数等新功能。参考图如下，来自：@A...     1       科技\n",
       "3  在iPad2发售几小时后，国外玩家就已经对它进行了拆解。想了解如此轻薄的机身如何容纳下这么多...     0       科技\n",
       "4               #乐享时光#现在科学家都这么闲了吗?谢谢你告诉我这么重要的结论啊！（转）     0       科技"
      ]
     },
     "execution_count": 6,
     "metadata": {},
     "output_type": "execute_result"
    }
   ],
   "source": [
    "train_data.head()"
   ]
  },
  {
   "cell_type": "code",
   "execution_count": 7,
   "metadata": {},
   "outputs": [
    {
     "name": "stdout",
     "output_type": "stream",
     "text": [
      "train: 5473\n",
      "val: 1825\n",
      "test: 1830\n"
     ]
    }
   ],
   "source": [
    "print('train:',len(train_data.index))\n",
    "print('val:',len(val_data.index))\n",
    "print('test:',len(test_data.index))"
   ]
  },
  {
   "cell_type": "code",
   "execution_count": 8,
   "metadata": {
    "scrolled": true
   },
   "outputs": [
    {
     "data": {
      "text/html": [
       "<div>\n",
       "<style scoped>\n",
       "    .dataframe tbody tr th:only-of-type {\n",
       "        vertical-align: middle;\n",
       "    }\n",
       "\n",
       "    .dataframe tbody tr th {\n",
       "        vertical-align: top;\n",
       "    }\n",
       "\n",
       "    .dataframe thead th {\n",
       "        text-align: right;\n",
       "    }\n",
       "</style>\n",
       "<table border=\"1\" class=\"dataframe\">\n",
       "  <thead>\n",
       "    <tr style=\"text-align: right;\">\n",
       "      <th></th>\n",
       "      <th>content</th>\n",
       "      <th>label</th>\n",
       "      <th>category</th>\n",
       "    </tr>\n",
       "  </thead>\n",
       "  <tbody>\n",
       "    <tr>\n",
       "      <th>0</th>\n",
       "      <td>【三星折叠屏原型机曝光：双屏设计/非柔性屏】网友@黎启lee晒出三星的ProjcetV可折叠...</td>\n",
       "      <td>0</td>\n",
       "      <td>0</td>\n",
       "    </tr>\n",
       "    <tr>\n",
       "      <th>1</th>\n",
       "      <td>【能电鱼，更能电力找鱼：别以为电鳗只有把鱼电晕一招！】电鳗2米长的身体里有许多专门发电的细胞...</td>\n",
       "      <td>0</td>\n",
       "      <td>0</td>\n",
       "    </tr>\n",
       "    <tr>\n",
       "      <th>2</th>\n",
       "      <td>新版微博个人主页过两天就上线了！包括访客到访和被转发评论次数等新功能。参考图如下，来自：@A...</td>\n",
       "      <td>1</td>\n",
       "      <td>0</td>\n",
       "    </tr>\n",
       "    <tr>\n",
       "      <th>3</th>\n",
       "      <td>在iPad2发售几小时后，国外玩家就已经对它进行了拆解。想了解如此轻薄的机身如何容纳下这么多...</td>\n",
       "      <td>0</td>\n",
       "      <td>0</td>\n",
       "    </tr>\n",
       "    <tr>\n",
       "      <th>4</th>\n",
       "      <td>#乐享时光#现在科学家都这么闲了吗?谢谢你告诉我这么重要的结论啊！（转）</td>\n",
       "      <td>0</td>\n",
       "      <td>0</td>\n",
       "    </tr>\n",
       "    <tr>\n",
       "      <th>...</th>\n",
       "      <td>...</td>\n",
       "      <td>...</td>\n",
       "      <td>...</td>\n",
       "    </tr>\n",
       "    <tr>\n",
       "      <th>5468</th>\n",
       "      <td>十万火急-----谁的群多？请帮忙转一下：一个重庆打工者，22岁，叫骆婕，不知道在什么地方，...</td>\n",
       "      <td>1</td>\n",
       "      <td>8</td>\n",
       "    </tr>\n",
       "    <tr>\n",
       "      <th>5469</th>\n",
       "      <td>【派出所打死人还是猝死?】原文；宁波市象山石浦派出所，因为抓赌打死人，有无天理?杀人者偿命如...</td>\n",
       "      <td>1</td>\n",
       "      <td>8</td>\n",
       "    </tr>\n",
       "    <tr>\n",
       "      <th>5470</th>\n",
       "      <td>对于近日打砸抢地报道万感痛心！理性爱国什么时候才能做到啊！？自己喝毒药想让别人难受怎么可能无...</td>\n",
       "      <td>1</td>\n",
       "      <td>8</td>\n",
       "    </tr>\n",
       "    <tr>\n",
       "      <th>5471</th>\n",
       "      <td>【10岁的他走了，捐献器官救5人[泪]】11月28日，安徽临泉10岁男孩陈硕外出遇车祸被确诊...</td>\n",
       "      <td>0</td>\n",
       "      <td>8</td>\n",
       "    </tr>\n",
       "    <tr>\n",
       "      <th>5472</th>\n",
       "      <td>【转发！公安民警围捕盗车团伙壮烈牺牲还有4名嫌犯在逃】今天凌晨1时许，兰州市公安局便衣侦查支...</td>\n",
       "      <td>0</td>\n",
       "      <td>8</td>\n",
       "    </tr>\n",
       "  </tbody>\n",
       "</table>\n",
       "<p>5473 rows × 3 columns</p>\n",
       "</div>"
      ],
      "text/plain": [
       "                                                content label  category\n",
       "0     【三星折叠屏原型机曝光：双屏设计/非柔性屏】网友@黎启lee晒出三星的ProjcetV可折叠...     0         0\n",
       "1     【能电鱼，更能电力找鱼：别以为电鳗只有把鱼电晕一招！】电鳗2米长的身体里有许多专门发电的细胞...     0         0\n",
       "2     新版微博个人主页过两天就上线了！包括访客到访和被转发评论次数等新功能。参考图如下，来自：@A...     1         0\n",
       "3     在iPad2发售几小时后，国外玩家就已经对它进行了拆解。想了解如此轻薄的机身如何容纳下这么多...     0         0\n",
       "4                  #乐享时光#现在科学家都这么闲了吗?谢谢你告诉我这么重要的结论啊！（转）     0         0\n",
       "...                                                 ...   ...       ...\n",
       "5468  十万火急-----谁的群多？请帮忙转一下：一个重庆打工者，22岁，叫骆婕，不知道在什么地方，...     1         8\n",
       "5469  【派出所打死人还是猝死?】原文；宁波市象山石浦派出所，因为抓赌打死人，有无天理?杀人者偿命如...     1         8\n",
       "5470  对于近日打砸抢地报道万感痛心！理性爱国什么时候才能做到啊！？自己喝毒药想让别人难受怎么可能无...     1         8\n",
       "5471  【10岁的他走了，捐献器官救5人[泪]】11月28日，安徽临泉10岁男孩陈硕外出遇车祸被确诊...     0         8\n",
       "5472  【转发！公安民警围捕盗车团伙壮烈牺牲还有4名嫌犯在逃】今天凌晨1时许，兰州市公安局便衣侦查支...     0         8\n",
       "\n",
       "[5473 rows x 3 columns]"
      ]
     },
     "execution_count": 8,
     "metadata": {},
     "output_type": "execute_result"
    }
   ],
   "source": [
    "train_data.replace({'category': category_dict}, inplace = True)\n",
    "train_data"
   ]
  },
  {
   "cell_type": "code",
   "execution_count": 9,
   "metadata": {
    "scrolled": true
   },
   "outputs": [
    {
     "data": {
      "text/plain": [
       "<AxesSubplot: xlabel='category', ylabel='count'>"
      ]
     },
     "execution_count": 9,
     "metadata": {},
     "output_type": "execute_result"
    },
    {
     "data": {
      "image/png": "[encoded data removed]",
      "text/plain": [
       "<Figure size 640x480 with 1 Axes>"
      ]
     },
     "metadata": {},
     "output_type": "display_data"
    }
   ],
   "source": [
    "sns.countplot(x='category', \n",
    "              data=train_data)"
   ]
  },
  {
   "cell_type": "code",
   "execution_count": 10,
   "metadata": {},
   "outputs": [
    {
     "data": {
      "text/plain": [
       "<AxesSubplot: xlabel='category', ylabel='count'>"
      ]
     },
     "execution_count": 10,
     "metadata": {},
     "output_type": "execute_result"
    },
    {
     "data": {
      "image/png": "[encoded data removed]",
      "text/plain": [
       "<Figure size 640x480 with 1 Axes>"
      ]
     },
     "metadata": {},
     "output_type": "display_data"
    }
   ],
   "source": [
    "val_data.replace({'category': category_dict}, inplace = True)\n",
    "sns.countplot(x='category', \n",
    "              data=val_data)"
   ]
  },
  {
   "cell_type": "code",
   "execution_count": 11,
   "metadata": {},
   "outputs": [
    {
     "data": {
      "text/plain": [
       "<AxesSubplot: xlabel='category', ylabel='count'>"
      ]
     },
     "execution_count": 11,
     "metadata": {},
     "output_type": "execute_result"
    },
    {
     "data": {
      "image/png": "[encoded data removed]",
      "text/plain": [
       "<Figure size 640x480 with 1 Axes>"
      ]
     },
     "metadata": {},
     "output_type": "display_data"
    }
   ],
   "source": [
    "test_data.replace({'category': category_dict}, inplace = True)\n",
    "sns.countplot(x='category', \n",
    "              data=test_data)"
   ]
  },
  {
   "cell_type": "code",
   "execution_count": 12,
   "metadata": {},
   "outputs": [
    {
     "name": "stdout",
     "output_type": "stream",
     "text": [
      "proportions: 0.5995836985100789 | 0.19993426818580193 | 0.2004820333041192\n"
     ]
    }
   ],
   "source": [
    "total = len(train_data.index) + len(val_data.index) + len(test_data.index)\n",
    "\n",
    "print('proportions:', len(train_data.index)/total,'|', len(val_data.index)/total, '|', len(test_data.index)/total)"
   ]
  },
  {
   "cell_type": "markdown",
   "metadata": {},
   "source": [
    "They used a stratified sample => create 4 additional startified sample data sets with proporitions 60/20/20 for train, val and test respectively"
   ]
  },
  {
   "cell_type": "code",
   "execution_count": 13,
   "metadata": {},
   "outputs": [
    {
     "data": {
      "text/html": [
       "<div>\n",
       "<style scoped>\n",
       "    .dataframe tbody tr th:only-of-type {\n",
       "        vertical-align: middle;\n",
       "    }\n",
       "\n",
       "    .dataframe tbody tr th {\n",
       "        vertical-align: top;\n",
       "    }\n",
       "\n",
       "    .dataframe thead th {\n",
       "        text-align: right;\n",
       "    }\n",
       "</style>\n",
       "<table border=\"1\" class=\"dataframe\">\n",
       "  <thead>\n",
       "    <tr style=\"text-align: right;\">\n",
       "      <th></th>\n",
       "      <th>content</th>\n",
       "      <th>label</th>\n",
       "      <th>category</th>\n",
       "    </tr>\n",
       "  </thead>\n",
       "  <tbody>\n",
       "    <tr>\n",
       "      <th>0</th>\n",
       "      <td>【三星折叠屏原型机曝光：双屏设计/非柔性屏】网友@黎启lee晒出三星的ProjcetV可折叠...</td>\n",
       "      <td>0</td>\n",
       "      <td>0</td>\n",
       "    </tr>\n",
       "    <tr>\n",
       "      <th>1</th>\n",
       "      <td>【和TA坐在“飞机机顶”看风景，你想试试吗？】飞机顶部装着透明观景罩，罩内设两个座椅，乘客可...</td>\n",
       "      <td>0</td>\n",
       "      <td>0</td>\n",
       "    </tr>\n",
       "    <tr>\n",
       "      <th>2</th>\n",
       "      <td>“撤回已发送消息”可以说是聊天软件必备，QQ与微信把这一时间设置为最长2分钟，超过这一时间就...</td>\n",
       "      <td>0</td>\n",
       "      <td>0</td>\n",
       "    </tr>\n",
       "    <tr>\n",
       "      <th>3</th>\n",
       "      <td>【北向资金火力全开！芯片、5G、新能源一个都不能少！】11月5日，总体净买入110.0亿元。...</td>\n",
       "      <td>0</td>\n",
       "      <td>0</td>\n",
       "    </tr>\n",
       "    <tr>\n",
       "      <th>4</th>\n",
       "      <td>@宜家家居IKEA的30多块钱的太阳能小夜灯'右下角那个是用来吸收太阳能的'今天虽然下雨'但...</td>\n",
       "      <td>0</td>\n",
       "      <td>0</td>\n",
       "    </tr>\n",
       "    <tr>\n",
       "      <th>...</th>\n",
       "      <td>...</td>\n",
       "      <td>...</td>\n",
       "      <td>...</td>\n",
       "    </tr>\n",
       "    <tr>\n",
       "      <th>9123</th>\n",
       "      <td>11月20日下午，云南省宣威市某矿场门口，高利贷公司雇佣一辆大卡车和数量小轿车堵住矿场大门讨...</td>\n",
       "      <td>0</td>\n",
       "      <td>8</td>\n",
       "    </tr>\n",
       "    <tr>\n",
       "      <th>9124</th>\n",
       "      <td>爱知县的一家叫做「暖家ダイニング」的居酒屋推出的胶原蛋白火锅，又被称为龙珠火锅，当然要点满七...</td>\n",
       "      <td>0</td>\n",
       "      <td>8</td>\n",
       "    </tr>\n",
       "    <tr>\n",
       "      <th>9125</th>\n",
       "      <td>车牌号浙BL0535这个车刚从武汉回威宁，车上的人确诊了偷跑回来的，大家看到了及时报警，希望...</td>\n",
       "      <td>1</td>\n",
       "      <td>8</td>\n",
       "    </tr>\n",
       "    <tr>\n",
       "      <th>9126</th>\n",
       "      <td>【史上最凄惨一幕：八旬老人挥泪割稻草】现在云南，贵州等地大旱，一些地区旱情超过去年可谓百年一...</td>\n",
       "      <td>1</td>\n",
       "      <td>8</td>\n",
       "    </tr>\n",
       "    <tr>\n",
       "      <th>9127</th>\n",
       "      <td>#汛期出行避险自救口诀#长江宜昌段决堤。厦门晓薇的微博视频</td>\n",
       "      <td>1</td>\n",
       "      <td>8</td>\n",
       "    </tr>\n",
       "  </tbody>\n",
       "</table>\n",
       "<p>9128 rows × 3 columns</p>\n",
       "</div>"
      ],
      "text/plain": [
       "                                                content label  category\n",
       "0     【三星折叠屏原型机曝光：双屏设计/非柔性屏】网友@黎启lee晒出三星的ProjcetV可折叠...     0         0\n",
       "1     【和TA坐在“飞机机顶”看风景，你想试试吗？】飞机顶部装着透明观景罩，罩内设两个座椅，乘客可...     0         0\n",
       "2     “撤回已发送消息”可以说是聊天软件必备，QQ与微信把这一时间设置为最长2分钟，超过这一时间就...     0         0\n",
       "3     【北向资金火力全开！芯片、5G、新能源一个都不能少！】11月5日，总体净买入110.0亿元。...     0         0\n",
       "4     @宜家家居IKEA的30多块钱的太阳能小夜灯'右下角那个是用来吸收太阳能的'今天虽然下雨'但...     0         0\n",
       "...                                                 ...   ...       ...\n",
       "9123  11月20日下午，云南省宣威市某矿场门口，高利贷公司雇佣一辆大卡车和数量小轿车堵住矿场大门讨...     0         8\n",
       "9124  爱知县的一家叫做「暖家ダイニング」的居酒屋推出的胶原蛋白火锅，又被称为龙珠火锅，当然要点满七...     0         8\n",
       "9125  车牌号浙BL0535这个车刚从武汉回威宁，车上的人确诊了偷跑回来的，大家看到了及时报警，希望...     1         8\n",
       "9126  【史上最凄惨一幕：八旬老人挥泪割稻草】现在云南，贵州等地大旱，一些地区旱情超过去年可谓百年一...     1         8\n",
       "9127                      #汛期出行避险自救口诀#长江宜昌段决堤。厦门晓薇的微博视频     1         8\n",
       "\n",
       "[9128 rows x 3 columns]"
      ]
     },
     "execution_count": 13,
     "metadata": {},
     "output_type": "execute_result"
    }
   ],
   "source": [
    "full_data = pd.concat([train_data, val_data, test_data], axis=0).sort_values('category').reset_index(drop=True)\n",
    "full_data"
   ]
  },
  {
   "cell_type": "code",
   "execution_count": 14,
   "metadata": {},
   "outputs": [],
   "source": [
    "def train_validate_test_split(df, train_percent=.6, validate_percent=.2, seed=None):\n",
    "    np.random.seed(seed)\n",
    "    perm = np.random.permutation(df.index)\n",
    "    m = len(df.index)\n",
    "    train_end = int(train_percent * m)\n",
    "    validate_end = int(validate_percent * m) + train_end\n",
    "    train = df.iloc[perm[:train_end]]\n",
    "    validate = df.iloc[perm[train_end:validate_end]]\n",
    "    test = df.iloc[perm[validate_end:]]\n",
    "    return train, validate, test"
   ]
  },
  {
   "cell_type": "code",
   "execution_count": 15,
   "metadata": {},
   "outputs": [
    {
     "name": "stdout",
     "output_type": "stream",
     "text": [
      "RandomState(MT19937)\n",
      "29761\n",
      "26364\n",
      "245\n",
      "19725\n",
      "12261\n",
      "6682\n",
      "6748\n",
      "13311\n",
      "18946\n"
     ]
    }
   ],
   "source": [
    "n_sets = 9\n",
    "\n",
    "train_sets = []\n",
    "val_sets = []\n",
    "test_sets = []\n",
    "\n",
    "\n",
    "rng = np.random.RandomState(204)\n",
    "print(rng)\n",
    "for i in range(n_sets):\n",
    "    randint = rng.randint(low=0, high=32767)\n",
    "    print(randint)\n",
    "    train, val, test = train_validate_test_split(full_data, seed = randint)\n",
    "    train_sets.append(train)\n",
    "    val_sets.append(val)\n",
    "    test_sets.append(test)"
   ]
  },
  {
   "cell_type": "markdown",
   "metadata": {},
   "source": [
    "Reverse the values in 'category' from number to character:"
   ]
  },
  {
   "cell_type": "code",
   "execution_count": 16,
   "metadata": {
    "scrolled": true
   },
   "outputs": [
    {
     "name": "stderr",
     "output_type": "stream",
     "text": [
      "/var/folders/rk/h1hvnhts7rx45_xrjn622k3h0000gn/T/ipykernel_60624/3785319405.py:14: SettingWithCopyWarning: \n",
      "A value is trying to be set on a copy of a slice from a DataFrame.\n",
      "Try using .loc[row_indexer,col_indexer] = value instead\n",
      "\n",
      "See the caveats in the documentation: https://pandas.pydata.org/pandas-docs/stable/user_guide/indexing.html#returning-a-view-versus-a-copy\n",
      "  train_sets[i].replace({'category': reverse_dict}, inplace = True)\n",
      "/var/folders/rk/h1hvnhts7rx45_xrjn622k3h0000gn/T/ipykernel_60624/3785319405.py:15: SettingWithCopyWarning: \n",
      "A value is trying to be set on a copy of a slice from a DataFrame.\n",
      "Try using .loc[row_indexer,col_indexer] = value instead\n",
      "\n",
      "See the caveats in the documentation: https://pandas.pydata.org/pandas-docs/stable/user_guide/indexing.html#returning-a-view-versus-a-copy\n",
      "  val_sets[i].replace({'category': reverse_dict}, inplace = True)\n",
      "/var/folders/rk/h1hvnhts7rx45_xrjn622k3h0000gn/T/ipykernel_60624/3785319405.py:16: SettingWithCopyWarning: \n",
      "A value is trying to be set on a copy of a slice from a DataFrame.\n",
      "Try using .loc[row_indexer,col_indexer] = value instead\n",
      "\n",
      "See the caveats in the documentation: https://pandas.pydata.org/pandas-docs/stable/user_guide/indexing.html#returning-a-view-versus-a-copy\n",
      "  test_sets[i].replace({'category': reverse_dict}, inplace = True)\n"
     ]
    }
   ],
   "source": [
    "reverse_dict = {\n",
    "    0: \"科技\",  #Science\n",
    "    1: \"军事\",  #Military\n",
    "    2: \"教育考试\",  #Education\n",
    "    3: \"灾难事故\",  #Accidents\n",
    "    4: \"政治\",  #Politics\n",
    "    5: \"医药健康\",  #Health\n",
    "    6: \"财经商业\",  #Finance\n",
    "    7: \"文体娱乐\",  #Entertainment\n",
    "    8: \"社会生活\" #Society   \n",
    "}\n",
    "\n",
    "for i in range(n_sets):\n",
    "    train_sets[i].replace({'category': reverse_dict}, inplace = True)\n",
    "    val_sets[i].replace({'category': reverse_dict}, inplace = True)\n",
    "    test_sets[i].replace({'category': reverse_dict}, inplace = True)"
   ]
  },
  {
   "cell_type": "code",
   "execution_count": 17,
   "metadata": {},
   "outputs": [
    {
     "data": {
      "text/html": [
       "<div>\n",
       "<style scoped>\n",
       "    .dataframe tbody tr th:only-of-type {\n",
       "        vertical-align: middle;\n",
       "    }\n",
       "\n",
       "    .dataframe tbody tr th {\n",
       "        vertical-align: top;\n",
       "    }\n",
       "\n",
       "    .dataframe thead th {\n",
       "        text-align: right;\n",
       "    }\n",
       "</style>\n",
       "<table border=\"1\" class=\"dataframe\">\n",
       "  <thead>\n",
       "    <tr style=\"text-align: right;\">\n",
       "      <th></th>\n",
       "      <th>content</th>\n",
       "      <th>label</th>\n",
       "      <th>category</th>\n",
       "    </tr>\n",
       "  </thead>\n",
       "  <tbody>\n",
       "    <tr>\n",
       "      <th>1870</th>\n",
       "      <td>【女副局长狂言后才道歉这是个伪命题】近日，有网友爆料，吉林省长春市南关区教育局一女副局长谭某...</td>\n",
       "      <td>0</td>\n",
       "      <td>政治</td>\n",
       "    </tr>\n",
       "    <tr>\n",
       "      <th>3711</th>\n",
       "      <td>#腾讯偷拍事件#国内大型互联网企业腾X某事业部办公室男洗手间摊上大事了…接报警察已经到场封锁...</td>\n",
       "      <td>1</td>\n",
       "      <td>财经商业</td>\n",
       "    </tr>\n",
       "    <tr>\n",
       "      <th>4284</th>\n",
       "      <td>民航局今日召开3月例行新闻发布会，民航局表示，今年民航行业仍处于恢复增长期。下一步，将继续统...</td>\n",
       "      <td>0</td>\n",
       "      <td>财经商业</td>\n",
       "    </tr>\n",
       "    <tr>\n",
       "      <th>582</th>\n",
       "      <td>@青岛交通广播FM897QQ群里朋友捡到粗心高考生的准考证，请相互转下，别耽误孩子考试。白娅...</td>\n",
       "      <td>1</td>\n",
       "      <td>教育考试</td>\n",
       "    </tr>\n",
       "    <tr>\n",
       "      <th>6148</th>\n",
       "      <td>#远观#世道真TM变了，一个刚出狱扬言“一辈子不打工”的小偷竟然被数家自媒体公司热捧，这样的...</td>\n",
       "      <td>1</td>\n",
       "      <td>文体娱乐</td>\n",
       "    </tr>\n",
       "  </tbody>\n",
       "</table>\n",
       "</div>"
      ],
      "text/plain": [
       "                                                content label category\n",
       "1870  【女副局长狂言后才道歉这是个伪命题】近日，有网友爆料，吉林省长春市南关区教育局一女副局长谭某...     0       政治\n",
       "3711  #腾讯偷拍事件#国内大型互联网企业腾X某事业部办公室男洗手间摊上大事了…接报警察已经到场封锁...     1     财经商业\n",
       "4284  民航局今日召开3月例行新闻发布会，民航局表示，今年民航行业仍处于恢复增长期。下一步，将继续统...     0     财经商业\n",
       "582   @青岛交通广播FM897QQ群里朋友捡到粗心高考生的准考证，请相互转下，别耽误孩子考试。白娅...     1     教育考试\n",
       "6148  #远观#世道真TM变了，一个刚出狱扬言“一辈子不打工”的小偷竟然被数家自媒体公司热捧，这样的...     1     文体娱乐"
      ]
     },
     "execution_count": 17,
     "metadata": {},
     "output_type": "execute_result"
    }
   ],
   "source": [
    "val_sets[2].head()"
   ]
  },
  {
   "cell_type": "markdown",
   "metadata": {},
   "source": [
    "Export new spilts:"
   ]
  },
  {
   "cell_type": "code",
   "execution_count": 18,
   "metadata": {},
   "outputs": [],
   "source": [
    "for i in range(n_sets):\n",
    "    train_expath = root_path + 'train'+str(i+2)+'.pkl'\n",
    "    val_expath = root_path + 'val'+str(i+2)+'.pkl'\n",
    "    test_expath = root_path + 'test'+str(i+2)+'.pkl'\n",
    "    \n",
    "    train_sets[i].to_pickle(train_expath)\n",
    "    val_sets[i].to_pickle(val_expath)\n",
    "    test_sets[i].to_pickle(test_expath)"
   ]
  },
  {
   "cell_type": "markdown",
   "metadata": {},
   "source": [
    "Check if export worked correctly:"
   ]
  },
  {
   "cell_type": "code",
   "execution_count": 19,
   "metadata": {},
   "outputs": [
    {
     "data": {
      "text/html": [
       "<div>\n",
       "<style scoped>\n",
       "    .dataframe tbody tr th:only-of-type {\n",
       "        vertical-align: middle;\n",
       "    }\n",
       "\n",
       "    .dataframe tbody tr th {\n",
       "        vertical-align: top;\n",
       "    }\n",
       "\n",
       "    .dataframe thead th {\n",
       "        text-align: right;\n",
       "    }\n",
       "</style>\n",
       "<table border=\"1\" class=\"dataframe\">\n",
       "  <thead>\n",
       "    <tr style=\"text-align: right;\">\n",
       "      <th></th>\n",
       "      <th>content</th>\n",
       "      <th>label</th>\n",
       "      <th>category</th>\n",
       "    </tr>\n",
       "  </thead>\n",
       "  <tbody>\n",
       "    <tr>\n",
       "      <th>2367</th>\n",
       "      <td>@Happy张江发生在在洛阳的真实事，洛阳市委书记的侄子杀死其这位老太太的兄弟，政府及其他部...</td>\n",
       "      <td>1</td>\n",
       "      <td>政治</td>\n",
       "    </tr>\n",
       "    <tr>\n",
       "      <th>2756</th>\n",
       "      <td>兰州拉面不能吃了！南京电视台做了一个关于它的节目。所有兰州拉面馆都在使用拉面剂，拉面剂主要成...</td>\n",
       "      <td>1</td>\n",
       "      <td>医药健康</td>\n",
       "    </tr>\n",
       "    <tr>\n",
       "      <th>5555</th>\n",
       "      <td>文章道歉与高晓松老师的道歉书惊人相似，这难道是一种新文体正在崛起吗！O网页链接</td>\n",
       "      <td>1</td>\n",
       "      <td>文体娱乐</td>\n",
       "    </tr>\n",
       "    <tr>\n",
       "      <th>885</th>\n",
       "      <td>【师生课堂口角升级互扇耳光后扭打】近日，有网友上传一段视频：在某校的一节课上，老师与学生发生...</td>\n",
       "      <td>0</td>\n",
       "      <td>教育考试</td>\n",
       "    </tr>\n",
       "    <tr>\n",
       "      <th>2850</th>\n",
       "      <td>嚣张！深圳女子买药不配合信息登记还殴打店员。现场惨叫连连。#个别省份又出现聚集性病例#-刘百...</td>\n",
       "      <td>1</td>\n",
       "      <td>医药健康</td>\n",
       "    </tr>\n",
       "  </tbody>\n",
       "</table>\n",
       "</div>"
      ],
      "text/plain": [
       "                                                content label category\n",
       "2367  @Happy张江发生在在洛阳的真实事，洛阳市委书记的侄子杀死其这位老太太的兄弟，政府及其他部...     1       政治\n",
       "2756  兰州拉面不能吃了！南京电视台做了一个关于它的节目。所有兰州拉面馆都在使用拉面剂，拉面剂主要成...     1     医药健康\n",
       "5555            文章道歉与高晓松老师的道歉书惊人相似，这难道是一种新文体正在崛起吗！O网页链接     1     文体娱乐\n",
       "885   【师生课堂口角升级互扇耳光后扭打】近日，有网友上传一段视频：在某校的一节课上，老师与学生发生...     0     教育考试\n",
       "2850  嚣张！深圳女子买药不配合信息登记还殴打店员。现场惨叫连连。#个别省份又出现聚集性病例#-刘百...     1     医药健康"
      ]
     },
     "execution_count": 19,
     "metadata": {},
     "output_type": "execute_result"
    }
   ],
   "source": [
    "train_sets[0].head()"
   ]
  },
  {
   "cell_type": "code",
   "execution_count": 20,
   "metadata": {
    "scrolled": true
   },
   "outputs": [
    {
     "data": {
      "text/html": [
       "<div>\n",
       "<style scoped>\n",
       "    .dataframe tbody tr th:only-of-type {\n",
       "        vertical-align: middle;\n",
       "    }\n",
       "\n",
       "    .dataframe tbody tr th {\n",
       "        vertical-align: top;\n",
       "    }\n",
       "\n",
       "    .dataframe thead th {\n",
       "        text-align: right;\n",
       "    }\n",
       "</style>\n",
       "<table border=\"1\" class=\"dataframe\">\n",
       "  <thead>\n",
       "    <tr style=\"text-align: right;\">\n",
       "      <th></th>\n",
       "      <th>content</th>\n",
       "      <th>label</th>\n",
       "      <th>category</th>\n",
       "    </tr>\n",
       "  </thead>\n",
       "  <tbody>\n",
       "    <tr>\n",
       "      <th>2367</th>\n",
       "      <td>@Happy张江发生在在洛阳的真实事，洛阳市委书记的侄子杀死其这位老太太的兄弟，政府及其他部...</td>\n",
       "      <td>1</td>\n",
       "      <td>政治</td>\n",
       "    </tr>\n",
       "    <tr>\n",
       "      <th>2756</th>\n",
       "      <td>兰州拉面不能吃了！南京电视台做了一个关于它的节目。所有兰州拉面馆都在使用拉面剂，拉面剂主要成...</td>\n",
       "      <td>1</td>\n",
       "      <td>医药健康</td>\n",
       "    </tr>\n",
       "    <tr>\n",
       "      <th>5555</th>\n",
       "      <td>文章道歉与高晓松老师的道歉书惊人相似，这难道是一种新文体正在崛起吗！O网页链接</td>\n",
       "      <td>1</td>\n",
       "      <td>文体娱乐</td>\n",
       "    </tr>\n",
       "    <tr>\n",
       "      <th>885</th>\n",
       "      <td>【师生课堂口角升级互扇耳光后扭打】近日，有网友上传一段视频：在某校的一节课上，老师与学生发生...</td>\n",
       "      <td>0</td>\n",
       "      <td>教育考试</td>\n",
       "    </tr>\n",
       "    <tr>\n",
       "      <th>2850</th>\n",
       "      <td>嚣张！深圳女子买药不配合信息登记还殴打店员。现场惨叫连连。#个别省份又出现聚集性病例#-刘百...</td>\n",
       "      <td>1</td>\n",
       "      <td>医药健康</td>\n",
       "    </tr>\n",
       "  </tbody>\n",
       "</table>\n",
       "</div>"
      ],
      "text/plain": [
       "                                                content label category\n",
       "2367  @Happy张江发生在在洛阳的真实事，洛阳市委书记的侄子杀死其这位老太太的兄弟，政府及其他部...     1       政治\n",
       "2756  兰州拉面不能吃了！南京电视台做了一个关于它的节目。所有兰州拉面馆都在使用拉面剂，拉面剂主要成...     1     医药健康\n",
       "5555            文章道歉与高晓松老师的道歉书惊人相似，这难道是一种新文体正在崛起吗！O网页链接     1     文体娱乐\n",
       "885   【师生课堂口角升级互扇耳光后扭打】近日，有网友上传一段视频：在某校的一节课上，老师与学生发生...     0     教育考试\n",
       "2850  嚣张！深圳女子买药不配合信息登记还殴打店员。现场惨叫连连。#个别省份又出现聚集性病例#-刘百...     1     医药健康"
      ]
     },
     "execution_count": 20,
     "metadata": {},
     "output_type": "execute_result"
    }
   ],
   "source": [
    "train2_path = root_path + 'train2.pkl'\n",
    "\n",
    "train2 = df_filter(read_pkl(train2_path))\n",
    "train2.head()"
   ]
  }
 ],
 "metadata": {
  "kernelspec": {
   "display_name": "Python 3 (ipykernel)",
   "language": "python",
   "name": "python3"
  },
  "language_info": {
   "codemirror_mode": {
    "name": "ipython",
    "version": 3
   },
   "file_extension": ".py",
   "mimetype": "text/x-python",
   "name": "python",
   "nbconvert_exporter": "python",
   "pygments_lexer": "ipython3",
   "version": "3.9.6"
  }
 },
 "nbformat": 4,
 "nbformat_minor": 1
}
